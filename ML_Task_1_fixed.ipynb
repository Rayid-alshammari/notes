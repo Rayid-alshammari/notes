{
  "cells": [
    {
      "cell_type": "code",
      "execution_count": null,
      "metadata": {
        "id": "BruZOu3bZu05"
      },
      "outputs": [],
      "source": [
        "from sklearn.datasets import fetch_openml\n",
        "\n",
        "# Load MNIST dataset\n",
        "mnist = fetch_openml('mnist_784', version=1, as_frame=False)\n",
        "x, y = mnist[\"data\"], mnist[\"target\"].astype(int)"
      ]
    },
    {
      "cell_type": "code",
      "execution_count": null,
      "metadata": {
        "id": "uru0up1zb4k9"
      },
      "outputs": [],
      "source": [
        "from sklearn.model_selection import train_test_split\n",
        "from sklearn.neighbors import KNeighborsClassifier\n",
        "from sklearn.metrics import accuracy_score, classification_report\n",
        "import time\n",
        "\n",
        "import pandas as pd\n"
      ]
    },
    {
      "cell_type": "code",
      "execution_count": null,
      "metadata": {
        "id": "jeK0MLvBdPQB"
      },
      "outputs": [],
      "source": [
        "df = pd.DataFrame(x,index = y)\n",
        "df.head()"
      ]
    },
    {
      "cell_type": "code",
      "execution_count": null,
      "metadata": {
        "id": "bX4My7f7Z4xQ"
      },
      "outputs": [],
      "source": [
        "x_train, x_test, y_train, y_test = train_test_split(\n",
        "    x, y, test_size=0.2, random_state=42 )"
      ]
    },
    {
      "cell_type": "code",
      "execution_count": null,
      "metadata": {
        "id": "jUmhgxbBcAWl"
      },
      "outputs": [],
      "source": [
        "print(f\"Dataset : {x.shape}\")\n",
        "print(f\"Labels : {y.shape}\")\n"
      ]
    },
    {
      "cell_type": "markdown",
      "metadata": {
        "id": "Vw7gODyzj_rJ"
      },
      "source": [
        "#KNN"
      ]
    },
    {
      "cell_type": "code",
      "execution_count": null,
      "metadata": {
        "id": "y8CK5La4cVuC"
      },
      "outputs": [],
      "source": [
        "knn_model = KNeighborsClassifier(\n",
        "    n_neighbors=3,\n",
        "    algorithm='auto'\n",
        ")\n",
        "knn_model.fit(x_train, y_train)"
      ]
    },
    {
      "cell_type": "code",
      "execution_count": null,
      "metadata": {
        "id": "PdwUL2Dtchkm"
      },
      "outputs": [],
      "source": [
        "start_time = time.time()\n",
        "y_pred = knn_model.predict(x_test)\n",
        "prediction_time = time.time() - start_time"
      ]
    },
    {
      "cell_type": "code",
      "execution_count": null,
      "metadata": {
        "id": "oMiGC7fBhkzB"
      },
      "outputs": [],
      "source": [
        "y_pred = knn_model.predict(x_test)\n",
        "accuracy = accuracy_score(y_test, y_pred)\n",
        "classification_rep = classification_report(y_test, y_pred)\n",
        "print(f\"Prediction Time: {prediction_time:.2f} seconds\")\n",
        "print(f\"Accuracy: {accuracy:.2f}\")\n",
        "print(\"Classification Report:\\n\", classification_rep)"
      ]
    },
    {
      "cell_type": "markdown",
      "metadata": {
        "id": "dcYJQ9bhn9xK"
      },
      "source": [
        "#Random Forest"
      ]
    },
    {
      "cell_type": "code",
      "execution_count": null,
      "metadata": {
        "id": "tcUzer9an45A"
      },
      "outputs": [],
      "source": [
        "from sklearn.ensemble import RandomForestClassifier\n",
        "\n",
        "RFC = RandomForestClassifier(n_estimators=100, random_state=42)\n",
        "RFC.fit(x_train, y_train)"
      ]
    },
    {
      "cell_type": "code",
      "execution_count": null,
      "metadata": {
        "id": "yfO7ChQio0xg"
      },
      "outputs": [],
      "source": [
        "y_pred2 = RFC.predict(x_test)\n",
        "accuracy = accuracy_score(y_test, y_pred2)\n",
        "classification_rep = classification_report(y_test, y_pred2)"
      ]
    },
    {
      "cell_type": "code",
      "execution_count": null,
      "metadata": {
        "id": "8WDexpPMq6l5"
      },
      "outputs": [],
      "source": [
        "start_time2 = time.time()\n",
        "y_pred2 = RFC.predict(x_test)\n",
        "prediction_time = time.time() - start_time2"
      ]
    },
    {
      "cell_type": "code",
      "execution_count": null,
      "metadata": {
        "id": "mob3ED1EpPnU"
      },
      "outputs": [],
      "source": [
        "print(f\"Prediction Time: {prediction_time:.2f} seconds\")\n",
        "print(f\"Accuracy: {accuracy:.2f}\")\n",
        "print(\"Classification Report:\\n\", classification_rep)"
      ]
    },
    {
      "cell_type": "markdown",
      "metadata": {
        "id": "btfEDTMOr7m9"
      },
      "source": [
        "#Logistic regression"
      ]
    },
    {
      "cell_type": "code",
      "execution_count": null,
      "metadata": {
        "id": "dCg5S8cxpVwN"
      },
      "outputs": [],
      "source": [
        "from sklearn.linear_model import LogisticRegression\n",
        "RL = LogisticRegression(max_iter=1000)\n",
        "RL.fit(x_train, y_train)"
      ]
    },
    {
      "cell_type": "code",
      "execution_count": null,
      "metadata": {
        "id": "8J8ulihNsEv3"
      },
      "outputs": [],
      "source": [
        "start_time3 = time.time()\n",
        "y_pred3 = RL.predict(x_test)\n",
        "prediction_time = time.time() - start_time3"
      ]
    },
    {
      "cell_type": "code",
      "execution_count": null,
      "metadata": {
        "id": "-AgwjynZsVqK"
      },
      "outputs": [],
      "source": [
        "y_pred3 = RL.predict(x_test)\n",
        "accuracy = accuracy_score(y_test, y_pred3)\n",
        "classification_rep = classification_report(y_test, y_pred3)\n",
        "print(f\"Prediction Time: {prediction_time:.2f} seconds\")\n",
        "print(f\"Accuracy: {accuracy:.2f}\")\n",
        "print(\"Classification Report:\\n\", classification_rep)"
      ]
    },
    {
      "cell_type": "code",
      "source": [],
      "metadata": {
        "id": "p0yUuZyFxiii"
      },
      "execution_count": null,
      "outputs": []
    }
  ],
  "metadata": {
    "accelerator": "GPU",
    "colab": {
      "gpuType": "T4",
      "private_outputs": true,
      "provenance": []
    },
    "kernelspec": {
      "display_name": "Python 3",
      "name": "python3"
    },
    "language_info": {
      "name": "python"
    }
  },
  "nbformat": 4,
  "nbformat_minor": 0
}